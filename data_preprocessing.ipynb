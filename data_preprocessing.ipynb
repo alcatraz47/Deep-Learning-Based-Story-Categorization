{
 "cells": [
  {
   "cell_type": "code",
   "execution_count": 1,
   "metadata": {},
   "outputs": [],
   "source": [
    "import os\n",
    "import pandas as pd\n",
    "import numpy as np\n",
    "import re\n",
    "\n",
    "import nltk\n",
    "from nltk.corpus import stopwords\n",
    "\n",
    "from sklearn.model_selection import train_test_split"
   ]
  },
  {
   "cell_type": "code",
   "execution_count": 2,
   "metadata": {},
   "outputs": [
    {
     "data": {
      "text/plain": [
       "['balanced_polished_data.csv',\n",
       " 'polished_data.csv',\n",
       " 'raw_data.csv',\n",
       " 'test.csv',\n",
       " 'test_labels.csv',\n",
       " 'test_set.csv',\n",
       " 'train.csv',\n",
       " 'train_dev_set.csv']"
      ]
     },
     "execution_count": 2,
     "metadata": {},
     "output_type": "execute_result"
    }
   ],
   "source": [
    "dataset_dir = os.path.join('./dataset')\n",
    "os.listdir(dataset_dir)"
   ]
  },
  {
   "cell_type": "code",
   "execution_count": 3,
   "metadata": {},
   "outputs": [],
   "source": [
    "data = pd.read_csv(os.path.join(dataset_dir + '/raw_data.csv'))"
   ]
  },
  {
   "cell_type": "code",
   "execution_count": 4,
   "metadata": {},
   "outputs": [
    {
     "data": {
      "text/html": [
       "<div>\n",
       "<style scoped>\n",
       "    .dataframe tbody tr th:only-of-type {\n",
       "        vertical-align: middle;\n",
       "    }\n",
       "\n",
       "    .dataframe tbody tr th {\n",
       "        vertical-align: top;\n",
       "    }\n",
       "\n",
       "    .dataframe thead th {\n",
       "        text-align: right;\n",
       "    }\n",
       "</style>\n",
       "<table border=\"1\" class=\"dataframe\">\n",
       "  <thead>\n",
       "    <tr style=\"text-align: right;\">\n",
       "      <th></th>\n",
       "      <th>story</th>\n",
       "      <th>category</th>\n",
       "    </tr>\n",
       "  </thead>\n",
       "  <tbody>\n",
       "    <tr>\n",
       "      <th>0</th>\n",
       "      <td>As a librarian, I've been threatened with stal...</td>\n",
       "      <td>0</td>\n",
       "    </tr>\n",
       "    <tr>\n",
       "      <th>1</th>\n",
       "      <td>I worked as an office manager, and the only wo...</td>\n",
       "      <td>0</td>\n",
       "    </tr>\n",
       "    <tr>\n",
       "      <th>2</th>\n",
       "      <td>I used to work for a call center and the men t...</td>\n",
       "      <td>0</td>\n",
       "    </tr>\n",
       "    <tr>\n",
       "      <th>3</th>\n",
       "      <td>When I was 13 or 14, I was babysitting two kid...</td>\n",
       "      <td>0</td>\n",
       "    </tr>\n",
       "    <tr>\n",
       "      <th>4</th>\n",
       "      <td>I work in law enforcement. I started out as a ...</td>\n",
       "      <td>0</td>\n",
       "    </tr>\n",
       "  </tbody>\n",
       "</table>\n",
       "</div>"
      ],
      "text/plain": [
       "                                               story  category\n",
       "0  As a librarian, I've been threatened with stal...         0\n",
       "1  I worked as an office manager, and the only wo...         0\n",
       "2  I used to work for a call center and the men t...         0\n",
       "3  When I was 13 or 14, I was babysitting two kid...         0\n",
       "4  I work in law enforcement. I started out as a ...         0"
      ]
     },
     "execution_count": 4,
     "metadata": {},
     "output_type": "execute_result"
    }
   ],
   "source": [
    "data.head()"
   ]
  },
  {
   "cell_type": "code",
   "execution_count": 5,
   "metadata": {},
   "outputs": [],
   "source": [
    "data_nan_idx = data[pd.isnull(data['story'])].index.tolist()\n",
    "data.loc[data_nan_idx, 'story'] = np.nan\n",
    "data.loc[data_nan_idx, 'category'] = np.nan"
   ]
  },
  {
   "cell_type": "code",
   "execution_count": 6,
   "metadata": {},
   "outputs": [],
   "source": [
    "data = data.dropna().reset_index(drop = True)"
   ]
  },
  {
   "cell_type": "code",
   "execution_count": 7,
   "metadata": {},
   "outputs": [
    {
     "name": "stdout",
     "output_type": "stream",
     "text": [
      "14303    what i wanna do im josh nanni i say fuck ameri...\n",
      "14315    No, maybe you should get a life instead of bei...\n",
      "14325    you people are pretty overzealous with this wh...\n",
      "14329    Collectonian is a bitch. A low class prostitut...\n",
      "14331    You're a stupid cunt \\n\\nFuck you dumb arse, y...\n",
      "14615    And finally, the ONLY reason I created the art...\n",
      "14629    Hey Jac16888, how very chickenshit of you to t...\n",
      "14634    You're welcome and I'm gonna vandalize every s...\n",
      "14650    sup niggaz can u unprotect so i can post like ...\n",
      "14653    I'M PISSED! WIKIPEDIA ADMINS REALLY SUCK! I'M ...\n",
      "14665    You are homosexual. You fuck people through th...\n",
      "14673    Good grief have you nothing useful to do with ...\n",
      "14705    Hanibal911You're a bastard Pro-Assad.Hanibal91...\n",
      "14706    Cena = Gets too much shit from people for no r...\n",
      "14715    , I hope you're on the next plane just so we c...\n",
      "14718    How is \"\"Ooooh, I'll be blocked! IMAGINE THAT!...\n",
      "14728    THE LINK IS THERE. I have an idea. Why not del...\n",
      "14739    bitch, asshole, motherfucker, go fuck ur mothe...\n",
      "14740      . youre a real bore. Now go bore someone else. \n",
      "14765                eat shit get rid of goofs you queers.\n",
      "14767    Fuck you Fiskeharrison!! Go suck your dad's di...\n",
      "14772    Chris.  You're one to talk!  You're the dick (...\n",
      "14776    Irresponsible dumheads. Each and every image h...\n",
      "15208        Some Say She is a little mothyer fukin bitchy\n",
      "15218    Total Asshole bitches like you just need to ge...\n",
      "15219    While I would dearly love to have my way with ...\n",
      "15226                                                   \\n\n",
      "15232    hey, asshole, get a life\\nIP banning is very e...\n",
      "15238    I feel sorry for you, small penised foreign do...\n",
      "15244    i gonna block your bitch ass bongwarrior- SQUA...\n",
      "15245                   Greetings\\nHey douche bag, wassup?\n",
      "15253    Hetar is a fucking asshole. I hope he is block...\n",
      "15255    i LICKED OFF UR MUM SO SUK THAT AND GO FUCK UR...\n",
      "15259    To confirm!! I never asked you for help. I hav...\n",
      "15262    F*** OFF, YOU F***ING B****! I AM TELLING THE ...\n",
      "15263    Lostprophets is a FUCKING NU METAL BAND BITCH\\...\n",
      "15271                Lestrade, you are pathetic, really...\n",
      "15272    This is a shit for me, STOP MAKING NON-VANDALI...\n",
      "15274    \"\\n\\n Bye \\n\\nI'm not going to deal with the a...\n",
      "15282    DAMN YOU U CUNT DAMN YOU U CUNT DAMN YOU U CUN...\n",
      "15289    you fuck misterwiki.   you fuck misterwiki.   ...\n",
      "15300    No, someone buggered it all up with those STUP...\n",
      "15301    Do you know how pathetic you look with your si...\n",
      "Name: story, dtype: object\n",
      "14303    1.0\n",
      "14315    1.0\n",
      "14325    1.0\n",
      "14329    1.0\n",
      "14331    1.0\n",
      "14615    1.0\n",
      "14629    1.0\n",
      "14634    1.0\n",
      "14650    1.0\n",
      "14653    1.0\n",
      "14665    1.0\n",
      "14673    1.0\n",
      "14705    1.0\n",
      "14706    1.0\n",
      "14715    1.0\n",
      "14718    1.0\n",
      "14728    1.0\n",
      "14739    1.0\n",
      "14740    1.0\n",
      "14765    1.0\n",
      "14767    1.0\n",
      "14772    1.0\n",
      "14776    1.0\n",
      "15208    1.0\n",
      "15218    1.0\n",
      "15219    1.0\n",
      "15226    1.0\n",
      "15232    1.0\n",
      "15238    1.0\n",
      "15244    1.0\n",
      "15245    1.0\n",
      "15253    1.0\n",
      "15255    1.0\n",
      "15259    1.0\n",
      "15262    1.0\n",
      "15263    1.0\n",
      "15271    1.0\n",
      "15272    1.0\n",
      "15274    1.0\n",
      "15282    1.0\n",
      "15289    1.0\n",
      "15300    1.0\n",
      "15301    1.0\n",
      "Name: category, dtype: float64\n"
     ]
    }
   ],
   "source": [
    "print(data.loc[data_nan_idx, 'story'])\n",
    "print(data.loc[data_nan_idx, 'category'])"
   ]
  },
  {
   "cell_type": "code",
   "execution_count": 8,
   "metadata": {},
   "outputs": [
    {
     "data": {
      "text/plain": [
       "story       you fuck misterwiki.   you fuck misterwiki.   ...\n",
       "category                                                    1\n",
       "Name: 15289, dtype: object"
      ]
     },
     "execution_count": 8,
     "metadata": {},
     "output_type": "execute_result"
    }
   ],
   "source": [
    "data.loc[15289]"
   ]
  },
  {
   "cell_type": "code",
   "execution_count": 9,
   "metadata": {},
   "outputs": [],
   "source": [
    "data = data.sample(frac=1).reset_index(drop = True)"
   ]
  },
  {
   "cell_type": "code",
   "execution_count": 10,
   "metadata": {},
   "outputs": [
    {
     "name": "stdout",
     "output_type": "stream",
     "text": [
      "Opinion is opinion and everyone has one of those. You really think all of these aliens were dropped into a volcano based on no evidence, that alien souls are in your body? Fucking idiots. My opinion is more correct than yours\n",
      "1.0\n"
     ]
    }
   ],
   "source": [
    "print(data.loc[15289].story)\n",
    "print(data.iloc[15289].category)"
   ]
  },
  {
   "cell_type": "code",
   "execution_count": 11,
   "metadata": {},
   "outputs": [
    {
     "data": {
      "text/html": [
       "<div>\n",
       "<style scoped>\n",
       "    .dataframe tbody tr th:only-of-type {\n",
       "        vertical-align: middle;\n",
       "    }\n",
       "\n",
       "    .dataframe tbody tr th {\n",
       "        vertical-align: top;\n",
       "    }\n",
       "\n",
       "    .dataframe thead th {\n",
       "        text-align: right;\n",
       "    }\n",
       "</style>\n",
       "<table border=\"1\" class=\"dataframe\">\n",
       "  <thead>\n",
       "    <tr style=\"text-align: right;\">\n",
       "      <th></th>\n",
       "      <th>story</th>\n",
       "      <th>category</th>\n",
       "    </tr>\n",
       "  </thead>\n",
       "  <tbody>\n",
       "    <tr>\n",
       "      <th>0</th>\n",
       "      <td>I stood at the bus stop, a man stepped on my t...</td>\n",
       "      <td>0.0</td>\n",
       "    </tr>\n",
       "    <tr>\n",
       "      <th>1</th>\n",
       "      <td>I was born with a craniofacial disease called ...</td>\n",
       "      <td>1.0</td>\n",
       "    </tr>\n",
       "    <tr>\n",
       "      <th>2</th>\n",
       "      <td>\"\\n\\n DILDO! \\n\\nJust so we're on the same pag...</td>\n",
       "      <td>1.0</td>\n",
       "    </tr>\n",
       "    <tr>\n",
       "      <th>3</th>\n",
       "      <td>It was 2 o clock in the noon.. I was heading t...</td>\n",
       "      <td>0.0</td>\n",
       "    </tr>\n",
       "    <tr>\n",
       "      <th>4</th>\n",
       "      <td>In afternoon time I was out with my brother an...</td>\n",
       "      <td>0.0</td>\n",
       "    </tr>\n",
       "  </tbody>\n",
       "</table>\n",
       "</div>"
      ],
      "text/plain": [
       "                                               story  category\n",
       "0  I stood at the bus stop, a man stepped on my t...       0.0\n",
       "1  I was born with a craniofacial disease called ...       1.0\n",
       "2  \"\\n\\n DILDO! \\n\\nJust so we're on the same pag...       1.0\n",
       "3  It was 2 o clock in the noon.. I was heading t...       0.0\n",
       "4  In afternoon time I was out with my brother an...       0.0"
      ]
     },
     "execution_count": 11,
     "metadata": {},
     "output_type": "execute_result"
    }
   ],
   "source": [
    "data.head()"
   ]
  },
  {
   "cell_type": "code",
   "execution_count": 12,
   "metadata": {},
   "outputs": [
    {
     "name": "stdout",
     "output_type": "stream",
     "text": [
      "No. of Sexual Harassment Data:  12806\n",
      "No. of Bullying Data:  9074\n",
      "No. of Other Data:  0\n"
     ]
    }
   ],
   "source": [
    "def count_categories(df, sexual_harassment = 0, bullying = 0, others = 0):\n",
    "    for i in range(len(df)):\n",
    "        if df.iloc[i].category == 0:\n",
    "            sexual_harassment+=1\n",
    "        elif df.iloc[i].category == 1:\n",
    "            bullying+=1\n",
    "        else:\n",
    "            others+=1\n",
    "    return sexual_harassment, bullying, others\n",
    "\n",
    "sexual_harassment, bullying, others = count_categories(data, 0, 0, 0)\n",
    "print('No. of Sexual Harassment Data: ', sexual_harassment)\n",
    "print('No. of Bullying Data: ', bullying)\n",
    "print('No. of Other Data: ', others)"
   ]
  },
  {
   "cell_type": "markdown",
   "metadata": {},
   "source": [
    "#### Converting to lower case\n",
    "#### Replacing regex, symbols, and remove x in text\n",
    "#### Removing digits and stop words"
   ]
  },
  {
   "cell_type": "code",
   "execution_count": 13,
   "metadata": {},
   "outputs": [],
   "source": [
    "REPLACE_REGX = re.compile('[/(){}\\[\\]\\|@,;]')\n",
    "REPLACE_NUMBERS_SYMBOLS = re.compile('[^0-9a-z #+_]')\n",
    "STOPWORDS = set(stopwords.words('english'))\n",
    "\n",
    "def clean_text(text):\n",
    "    text = text.lower()\n",
    "    text = REPLACE_REGX.sub('', text)\n",
    "    text = REPLACE_NUMBERS_SYMBOLS.sub('', text)\n",
    "    text = ' '.join(word for word in text.split() if word not in STOPWORDS)\n",
    "    return text"
   ]
  },
  {
   "cell_type": "code",
   "execution_count": 14,
   "metadata": {},
   "outputs": [],
   "source": [
    "data['story'] = data['story'].apply(clean_text)\n",
    "data['story'] = data['story'].str.replace('\\d+', '')"
   ]
  },
  {
   "cell_type": "code",
   "execution_count": 15,
   "metadata": {},
   "outputs": [
    {
     "data": {
      "text/html": [
       "<div>\n",
       "<style scoped>\n",
       "    .dataframe tbody tr th:only-of-type {\n",
       "        vertical-align: middle;\n",
       "    }\n",
       "\n",
       "    .dataframe tbody tr th {\n",
       "        vertical-align: top;\n",
       "    }\n",
       "\n",
       "    .dataframe thead th {\n",
       "        text-align: right;\n",
       "    }\n",
       "</style>\n",
       "<table border=\"1\" class=\"dataframe\">\n",
       "  <thead>\n",
       "    <tr style=\"text-align: right;\">\n",
       "      <th></th>\n",
       "      <th>story</th>\n",
       "      <th>category</th>\n",
       "    </tr>\n",
       "  </thead>\n",
       "  <tbody>\n",
       "    <tr>\n",
       "      <th>0</th>\n",
       "      <td>stood bus stop man stepped toes asked looked h...</td>\n",
       "      <td>0.0</td>\n",
       "    </tr>\n",
       "    <tr>\n",
       "      <th>1</th>\n",
       "      <td>born craniofacial disease called stickler synd...</td>\n",
       "      <td>1.0</td>\n",
       "    </tr>\n",
       "    <tr>\n",
       "      <th>2</th>\n",
       "      <td>dildo page youre less man marine corps shouldv...</td>\n",
       "      <td>1.0</td>\n",
       "    </tr>\n",
       "    <tr>\n",
       "      <th>3</th>\n",
       "      <td>clock noon heading classes change two buses r...</td>\n",
       "      <td>0.0</td>\n",
       "    </tr>\n",
       "    <tr>\n",
       "      <th>4</th>\n",
       "      <td>afternoon time brother sister guys passed us o...</td>\n",
       "      <td>0.0</td>\n",
       "    </tr>\n",
       "  </tbody>\n",
       "</table>\n",
       "</div>"
      ],
      "text/plain": [
       "                                               story  category\n",
       "0  stood bus stop man stepped toes asked looked h...       0.0\n",
       "1  born craniofacial disease called stickler synd...       1.0\n",
       "2  dildo page youre less man marine corps shouldv...       1.0\n",
       "3   clock noon heading classes change two buses r...       0.0\n",
       "4  afternoon time brother sister guys passed us o...       0.0"
      ]
     },
     "execution_count": 15,
     "metadata": {},
     "output_type": "execute_result"
    }
   ],
   "source": [
    "data.head()"
   ]
  },
  {
   "cell_type": "code",
   "execution_count": 16,
   "metadata": {},
   "outputs": [],
   "source": [
    "df = data.copy()"
   ]
  },
  {
   "cell_type": "code",
   "execution_count": 17,
   "metadata": {},
   "outputs": [
    {
     "data": {
      "text/plain": [
       "21880"
      ]
     },
     "execution_count": 17,
     "metadata": {},
     "output_type": "execute_result"
    }
   ],
   "source": [
    "len(df)"
   ]
  },
  {
   "cell_type": "code",
   "execution_count": 18,
   "metadata": {},
   "outputs": [
    {
     "name": "stdout",
     "output_type": "stream",
     "text": [
      "3732\n"
     ]
    }
   ],
   "source": [
    "counter = 1\n",
    "for i in range(len(df)):\n",
    "    \n",
    "    if data.iloc[i].category == 0:\n",
    "#         print(data.iloc[i].category)\n",
    "        df.drop(index=i, inplace=True)\n",
    "        counter += 1\n",
    "        if counter == 3732:\n",
    "            break\n",
    "print(counter)"
   ]
  },
  {
   "cell_type": "code",
   "execution_count": 19,
   "metadata": {},
   "outputs": [
    {
     "name": "stdout",
     "output_type": "stream",
     "text": [
      "No. of Sexual Harassment Data:  9075\n",
      "No. of Bullying Data:  9074\n",
      "No. of Other Data:  0\n"
     ]
    }
   ],
   "source": [
    "sexual_harassment, bullying, others = count_categories(df, 0, 0, 0)\n",
    "print('No. of Sexual Harassment Data: ', sexual_harassment)\n",
    "print('No. of Bullying Data: ', bullying)\n",
    "print('No. of Other Data: ', others)"
   ]
  },
  {
   "cell_type": "code",
   "execution_count": 20,
   "metadata": {},
   "outputs": [],
   "source": [
    "df.to_csv(os.path.join(dataset_dir + '/balanced_polished_data.csv'), index=False)"
   ]
  },
  {
   "cell_type": "code",
   "execution_count": 21,
   "metadata": {},
   "outputs": [
    {
     "data": {
      "text/plain": [
       "18149"
      ]
     },
     "execution_count": 21,
     "metadata": {},
     "output_type": "execute_result"
    }
   ],
   "source": [
    "len(df)"
   ]
  },
  {
   "cell_type": "code",
   "execution_count": 22,
   "metadata": {},
   "outputs": [],
   "source": [
    "df = df.sample(frac=1).reset_index(drop=True)"
   ]
  },
  {
   "cell_type": "code",
   "execution_count": 23,
   "metadata": {},
   "outputs": [],
   "source": [
    "def prepare_train_test_set(df, test_percentage = .9):\n",
    "    no_of_data = round(len(df) * test_percentage)\n",
    "    \n",
    "    print('Preparing {} dat for trainset'.format(no_of_data))\n",
    "    train_set = df[:no_of_data]\n",
    "    \n",
    "    print('Preparing {} dat for test'.format(len(df)-no_of_data))\n",
    "    test_set = df[no_of_data:]\n",
    "    \n",
    "    return train_set, test_set"
   ]
  },
  {
   "cell_type": "code",
   "execution_count": 24,
   "metadata": {},
   "outputs": [
    {
     "name": "stdout",
     "output_type": "stream",
     "text": [
      "Preparing 16334 dat for trainset\n",
      "Preparing 1815 dat for test\n"
     ]
    }
   ],
   "source": [
    "train_set, test_set = prepare_train_test_set(df)"
   ]
  },
  {
   "cell_type": "code",
   "execution_count": 25,
   "metadata": {},
   "outputs": [
    {
     "name": "stdout",
     "output_type": "stream",
     "text": [
      "No of train data 16334\n",
      "No of test data 1815\n"
     ]
    }
   ],
   "source": [
    "print('No of train data {}'.format(len(train_set)))\n",
    "print('No of test data {}'.format(len(test_set)))"
   ]
  },
  {
   "cell_type": "code",
   "execution_count": 26,
   "metadata": {},
   "outputs": [],
   "source": [
    "train_set = train_set.reset_index(drop=True)\n",
    "test_set = test_set.reset_index(drop=True)"
   ]
  },
  {
   "cell_type": "code",
   "execution_count": 27,
   "metadata": {},
   "outputs": [
    {
     "data": {
      "text/html": [
       "<div>\n",
       "<style scoped>\n",
       "    .dataframe tbody tr th:only-of-type {\n",
       "        vertical-align: middle;\n",
       "    }\n",
       "\n",
       "    .dataframe tbody tr th {\n",
       "        vertical-align: top;\n",
       "    }\n",
       "\n",
       "    .dataframe thead th {\n",
       "        text-align: right;\n",
       "    }\n",
       "</style>\n",
       "<table border=\"1\" class=\"dataframe\">\n",
       "  <thead>\n",
       "    <tr style=\"text-align: right;\">\n",
       "      <th></th>\n",
       "      <th>story</th>\n",
       "      <th>category</th>\n",
       "    </tr>\n",
       "  </thead>\n",
       "  <tbody>\n",
       "    <tr>\n",
       "      <th>0</th>\n",
       "      <td>hello silly wubba wubba mitt romney dictator</td>\n",
       "      <td>1.0</td>\n",
       "    </tr>\n",
       "    <tr>\n",
       "      <th>1</th>\n",
       "      <td>man staring smiling near house tried cross pat...</td>\n",
       "      <td>0.0</td>\n",
       "    </tr>\n",
       "    <tr>\n",
       "      <th>2</th>\n",
       "      <td>happened road bus stop named gulabi bagh laksh...</td>\n",
       "      <td>0.0</td>\n",
       "    </tr>\n",
       "    <tr>\n",
       "      <th>3</th>\n",
       "      <td>old man promised buy touch screen phone accept...</td>\n",
       "      <td>0.0</td>\n",
       "    </tr>\n",
       "    <tr>\n",
       "      <th>4</th>\n",
       "      <td>contador gofuckyourselflove dc</td>\n",
       "      <td>1.0</td>\n",
       "    </tr>\n",
       "  </tbody>\n",
       "</table>\n",
       "</div>"
      ],
      "text/plain": [
       "                                               story  category\n",
       "0       hello silly wubba wubba mitt romney dictator       1.0\n",
       "1  man staring smiling near house tried cross pat...       0.0\n",
       "2  happened road bus stop named gulabi bagh laksh...       0.0\n",
       "3  old man promised buy touch screen phone accept...       0.0\n",
       "4                     contador gofuckyourselflove dc       1.0"
      ]
     },
     "execution_count": 27,
     "metadata": {},
     "output_type": "execute_result"
    }
   ],
   "source": [
    "train_set.head()"
   ]
  },
  {
   "cell_type": "code",
   "execution_count": 28,
   "metadata": {},
   "outputs": [
    {
     "data": {
      "text/html": [
       "<div>\n",
       "<style scoped>\n",
       "    .dataframe tbody tr th:only-of-type {\n",
       "        vertical-align: middle;\n",
       "    }\n",
       "\n",
       "    .dataframe tbody tr th {\n",
       "        vertical-align: top;\n",
       "    }\n",
       "\n",
       "    .dataframe thead th {\n",
       "        text-align: right;\n",
       "    }\n",
       "</style>\n",
       "<table border=\"1\" class=\"dataframe\">\n",
       "  <thead>\n",
       "    <tr style=\"text-align: right;\">\n",
       "      <th></th>\n",
       "      <th>story</th>\n",
       "      <th>category</th>\n",
       "    </tr>\n",
       "  </thead>\n",
       "  <tbody>\n",
       "    <tr>\n",
       "      <th>0</th>\n",
       "      <td>young teenage girls clothes torn street young ...</td>\n",
       "      <td>0.0</td>\n",
       "    </tr>\n",
       "    <tr>\n",
       "      <th>1</th>\n",
       "      <td>somebody tires touch sensitive part</td>\n",
       "      <td>0.0</td>\n",
       "    </tr>\n",
       "    <tr>\n",
       "      <th>2</th>\n",
       "      <td>happened late evening travelling subjected var...</td>\n",
       "      <td>0.0</td>\n",
       "    </tr>\n",
       "    <tr>\n",
       "      <th>3</th>\n",
       "      <td>gotta love send noted racist antisemite kinda ...</td>\n",
       "      <td>1.0</td>\n",
       "    </tr>\n",
       "    <tr>\n",
       "      <th>4</th>\n",
       "      <td>yo nigga reverting edits use common sense</td>\n",
       "      <td>1.0</td>\n",
       "    </tr>\n",
       "  </tbody>\n",
       "</table>\n",
       "</div>"
      ],
      "text/plain": [
       "                                               story  category\n",
       "0  young teenage girls clothes torn street young ...       0.0\n",
       "1                somebody tires touch sensitive part       0.0\n",
       "2  happened late evening travelling subjected var...       0.0\n",
       "3  gotta love send noted racist antisemite kinda ...       1.0\n",
       "4          yo nigga reverting edits use common sense       1.0"
      ]
     },
     "execution_count": 28,
     "metadata": {},
     "output_type": "execute_result"
    }
   ],
   "source": [
    "test_set.head()"
   ]
  },
  {
   "cell_type": "code",
   "execution_count": 54,
   "metadata": {},
   "outputs": [],
   "source": [
    "train_set.to_csv(os.path.join(dataset_dir + '/train_dev_set.csv'), index=False)\n",
    "test_set.to_csv(os.path.join(dataset_dir + '/test_set.csv'), index=False)"
   ]
  },
  {
   "cell_type": "code",
   "execution_count": null,
   "metadata": {},
   "outputs": [],
   "source": []
  }
 ],
 "metadata": {
  "kernelspec": {
   "display_name": "Python 3",
   "language": "python",
   "name": "python3"
  },
  "language_info": {
   "codemirror_mode": {
    "name": "ipython",
    "version": 3
   },
   "file_extension": ".py",
   "mimetype": "text/x-python",
   "name": "python",
   "nbconvert_exporter": "python",
   "pygments_lexer": "ipython3",
   "version": "3.8.3"
  }
 },
 "nbformat": 4,
 "nbformat_minor": 4
}
