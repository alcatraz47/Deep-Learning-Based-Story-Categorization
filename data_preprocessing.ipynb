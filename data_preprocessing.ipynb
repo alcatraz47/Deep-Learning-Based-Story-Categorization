{
 "cells": [
  {
   "cell_type": "code",
   "execution_count": 1,
   "metadata": {},
   "outputs": [],
   "source": [
    "import os\n",
    "import pandas as pd\n",
    "import numpy as np\n",
    "import re\n",
    "\n",
    "import nltk\n",
    "from nltk.corpus import stopwords\n",
    "\n",
    "from sklearn.model_selection import train_test_split"
   ]
  },
  {
   "cell_type": "code",
   "execution_count": 2,
   "metadata": {},
   "outputs": [
    {
     "data": {
      "text/plain": [
       "['balanced_polished_data.csv',\n",
       " 'polished_data.csv',\n",
       " 'raw_data.csv',\n",
       " 'test.csv',\n",
       " 'test_labels.csv',\n",
       " 'test_set.csv',\n",
       " 'train.csv',\n",
       " 'train_dev_set.csv']"
      ]
     },
     "execution_count": 2,
     "metadata": {},
     "output_type": "execute_result"
    }
   ],
   "source": [
    "dataset_dir = os.path.join('./dataset')\n",
    "os.listdir(dataset_dir)"
   ]
  },
  {
   "cell_type": "code",
   "execution_count": 3,
   "metadata": {},
   "outputs": [],
   "source": [
    "data = pd.read_csv(os.path.join(dataset_dir + '/raw_data.csv'))"
   ]
  },
  {
   "cell_type": "code",
   "execution_count": 4,
   "metadata": {},
   "outputs": [
    {
     "data": {
      "text/html": [
       "<div>\n",
       "<style scoped>\n",
       "    .dataframe tbody tr th:only-of-type {\n",
       "        vertical-align: middle;\n",
       "    }\n",
       "\n",
       "    .dataframe tbody tr th {\n",
       "        vertical-align: top;\n",
       "    }\n",
       "\n",
       "    .dataframe thead th {\n",
       "        text-align: right;\n",
       "    }\n",
       "</style>\n",
       "<table border=\"1\" class=\"dataframe\">\n",
       "  <thead>\n",
       "    <tr style=\"text-align: right;\">\n",
       "      <th></th>\n",
       "      <th>story</th>\n",
       "      <th>category</th>\n",
       "    </tr>\n",
       "  </thead>\n",
       "  <tbody>\n",
       "    <tr>\n",
       "      <th>0</th>\n",
       "      <td>As a librarian, I've been threatened with stal...</td>\n",
       "      <td>0</td>\n",
       "    </tr>\n",
       "    <tr>\n",
       "      <th>1</th>\n",
       "      <td>I worked as an office manager, and the only wo...</td>\n",
       "      <td>0</td>\n",
       "    </tr>\n",
       "    <tr>\n",
       "      <th>2</th>\n",
       "      <td>I used to work for a call center and the men t...</td>\n",
       "      <td>0</td>\n",
       "    </tr>\n",
       "    <tr>\n",
       "      <th>3</th>\n",
       "      <td>When I was 13 or 14, I was babysitting two kid...</td>\n",
       "      <td>0</td>\n",
       "    </tr>\n",
       "    <tr>\n",
       "      <th>4</th>\n",
       "      <td>I work in law enforcement. I started out as a ...</td>\n",
       "      <td>0</td>\n",
       "    </tr>\n",
       "  </tbody>\n",
       "</table>\n",
       "</div>"
      ],
      "text/plain": [
       "                                               story  category\n",
       "0  As a librarian, I've been threatened with stal...         0\n",
       "1  I worked as an office manager, and the only wo...         0\n",
       "2  I used to work for a call center and the men t...         0\n",
       "3  When I was 13 or 14, I was babysitting two kid...         0\n",
       "4  I work in law enforcement. I started out as a ...         0"
      ]
     },
     "execution_count": 4,
     "metadata": {},
     "output_type": "execute_result"
    }
   ],
   "source": [
    "data.head()"
   ]
  },
  {
   "cell_type": "code",
   "execution_count": 5,
   "metadata": {},
   "outputs": [],
   "source": [
    "data_nan_idx = data[pd.isnull(data['story'])].index.tolist()\n",
    "data.loc[data_nan_idx, 'story'] = np.nan\n",
    "data.loc[data_nan_idx, 'category'] = np.nan"
   ]
  },
  {
   "cell_type": "code",
   "execution_count": 6,
   "metadata": {},
   "outputs": [],
   "source": [
    "data = data.dropna().reset_index(drop = True)"
   ]
  },
  {
   "cell_type": "code",
   "execution_count": 7,
   "metadata": {},
   "outputs": [
    {
     "name": "stdout",
     "output_type": "stream",
     "text": [
      "14303    what i wanna do im josh nanni i say fuck ameri...\n",
      "14315    No, maybe you should get a life instead of bei...\n",
      "14325    you people are pretty overzealous with this wh...\n",
      "14329    Collectonian is a bitch. A low class prostitut...\n",
      "14331    You're a stupid cunt \\n\\nFuck you dumb arse, y...\n",
      "14615    And finally, the ONLY reason I created the art...\n",
      "14629    Hey Jac16888, how very chickenshit of you to t...\n",
      "14634    You're welcome and I'm gonna vandalize every s...\n",
      "14650    sup niggaz can u unprotect so i can post like ...\n",
      "14653    I'M PISSED! WIKIPEDIA ADMINS REALLY SUCK! I'M ...\n",
      "14665    You are homosexual. You fuck people through th...\n",
      "14673    Good grief have you nothing useful to do with ...\n",
      "14705    Hanibal911You're a bastard Pro-Assad.Hanibal91...\n",
      "14706    Cena = Gets too much shit from people for no r...\n",
      "14715    , I hope you're on the next plane just so we c...\n",
      "14718    How is \"\"Ooooh, I'll be blocked! IMAGINE THAT!...\n",
      "14728    THE LINK IS THERE. I have an idea. Why not del...\n",
      "14739    bitch, asshole, motherfucker, go fuck ur mothe...\n",
      "14740      . youre a real bore. Now go bore someone else. \n",
      "14765                eat shit get rid of goofs you queers.\n",
      "14767    Fuck you Fiskeharrison!! Go suck your dad's di...\n",
      "14772    Chris.  You're one to talk!  You're the dick (...\n",
      "14776    Irresponsible dumheads. Each and every image h...\n",
      "15208        Some Say She is a little mothyer fukin bitchy\n",
      "15218    Total Asshole bitches like you just need to ge...\n",
      "15219    While I would dearly love to have my way with ...\n",
      "15226                                                   \\n\n",
      "15232    hey, asshole, get a life\\nIP banning is very e...\n",
      "15238    I feel sorry for you, small penised foreign do...\n",
      "15244    i gonna block your bitch ass bongwarrior- SQUA...\n",
      "15245                   Greetings\\nHey douche bag, wassup?\n",
      "15253    Hetar is a fucking asshole. I hope he is block...\n",
      "15255    i LICKED OFF UR MUM SO SUK THAT AND GO FUCK UR...\n",
      "15259    To confirm!! I never asked you for help. I hav...\n",
      "15262    F*** OFF, YOU F***ING B****! I AM TELLING THE ...\n",
      "15263    Lostprophets is a FUCKING NU METAL BAND BITCH\\...\n",
      "15271                Lestrade, you are pathetic, really...\n",
      "15272    This is a shit for me, STOP MAKING NON-VANDALI...\n",
      "15274    \"\\n\\n Bye \\n\\nI'm not going to deal with the a...\n",
      "15282    DAMN YOU U CUNT DAMN YOU U CUNT DAMN YOU U CUN...\n",
      "15289    you fuck misterwiki.   you fuck misterwiki.   ...\n",
      "15300    No, someone buggered it all up with those STUP...\n",
      "15301    Do you know how pathetic you look with your si...\n",
      "Name: story, dtype: object\n",
      "14303    1.0\n",
      "14315    1.0\n",
      "14325    1.0\n",
      "14329    1.0\n",
      "14331    1.0\n",
      "14615    1.0\n",
      "14629    1.0\n",
      "14634    1.0\n",
      "14650    1.0\n",
      "14653    1.0\n",
      "14665    1.0\n",
      "14673    1.0\n",
      "14705    1.0\n",
      "14706    1.0\n",
      "14715    1.0\n",
      "14718    1.0\n",
      "14728    1.0\n",
      "14739    1.0\n",
      "14740    1.0\n",
      "14765    1.0\n",
      "14767    1.0\n",
      "14772    1.0\n",
      "14776    1.0\n",
      "15208    1.0\n",
      "15218    1.0\n",
      "15219    1.0\n",
      "15226    1.0\n",
      "15232    1.0\n",
      "15238    1.0\n",
      "15244    1.0\n",
      "15245    1.0\n",
      "15253    1.0\n",
      "15255    1.0\n",
      "15259    1.0\n",
      "15262    1.0\n",
      "15263    1.0\n",
      "15271    1.0\n",
      "15272    1.0\n",
      "15274    1.0\n",
      "15282    1.0\n",
      "15289    1.0\n",
      "15300    1.0\n",
      "15301    1.0\n",
      "Name: category, dtype: float64\n"
     ]
    }
   ],
   "source": [
    "print(data.loc[data_nan_idx, 'story'])\n",
    "print(data.loc[data_nan_idx, 'category'])"
   ]
  },
  {
   "cell_type": "code",
   "execution_count": 8,
   "metadata": {},
   "outputs": [
    {
     "data": {
      "text/plain": [
       "story       you fuck misterwiki.   you fuck misterwiki.   ...\n",
       "category                                                    1\n",
       "Name: 15289, dtype: object"
      ]
     },
     "execution_count": 8,
     "metadata": {},
     "output_type": "execute_result"
    }
   ],
   "source": [
    "data.loc[15289]"
   ]
  },
  {
   "cell_type": "code",
   "execution_count": 9,
   "metadata": {},
   "outputs": [],
   "source": [
    "data = data.sample(frac=1).reset_index(drop = True)"
   ]
  },
  {
   "cell_type": "code",
   "execution_count": 10,
   "metadata": {},
   "outputs": [
    {
     "name": "stdout",
     "output_type": "stream",
     "text": [
      "Opinion is opinion and everyone has one of those. You really think all of these aliens were dropped into a volcano based on no evidence, that alien souls are in your body? Fucking idiots. My opinion is more correct than yours\n",
      "1.0\n"
     ]
    }
   ],
   "source": [
    "print(data.loc[15289].story)\n",
    "print(data.iloc[15289].category)"
   ]
  },
  {
   "cell_type": "code",
   "execution_count": 11,
   "metadata": {},
   "outputs": [
    {
     "data": {
      "text/html": [
       "<div>\n",
       "<style scoped>\n",
       "    .dataframe tbody tr th:only-of-type {\n",
       "        vertical-align: middle;\n",
       "    }\n",
       "\n",
       "    .dataframe tbody tr th {\n",
       "        vertical-align: top;\n",
       "    }\n",
       "\n",
       "    .dataframe thead th {\n",
       "        text-align: right;\n",
       "    }\n",
       "</style>\n",
       "<table border=\"1\" class=\"dataframe\">\n",
       "  <thead>\n",
       "    <tr style=\"text-align: right;\">\n",
       "      <th></th>\n",
       "      <th>story</th>\n",
       "      <th>category</th>\n",
       "    </tr>\n",
       "  </thead>\n",
       "  <tbody>\n",
       "    <tr>\n",
       "      <th>0</th>\n",
       "      <td>I stood at the bus stop, a man stepped on my t...</td>\n",
       "      <td>0.0</td>\n",
       "    </tr>\n",
       "    <tr>\n",
       "      <th>1</th>\n",
       "      <td>I was born with a craniofacial disease called ...</td>\n",
       "      <td>1.0</td>\n",
       "    </tr>\n",
       "    <tr>\n",
       "      <th>2</th>\n",
       "      <td>\"\\n\\n DILDO! \\n\\nJust so we're on the same pag...</td>\n",
       "      <td>1.0</td>\n",
       "    </tr>\n",
       "    <tr>\n",
       "      <th>3</th>\n",
       "      <td>It was 2 o clock in the noon.. I was heading t...</td>\n",
       "      <td>0.0</td>\n",
       "    </tr>\n",
       "    <tr>\n",
       "      <th>4</th>\n",
       "      <td>In afternoon time I was out with my brother an...</td>\n",
       "      <td>0.0</td>\n",
       "    </tr>\n",
       "  </tbody>\n",
       "</table>\n",
       "</div>"
      ],
      "text/plain": [
       "                                               story  category\n",
       "0  I stood at the bus stop, a man stepped on my t...       0.0\n",
       "1  I was born with a craniofacial disease called ...       1.0\n",
       "2  \"\\n\\n DILDO! \\n\\nJust so we're on the same pag...       1.0\n",
       "3  It was 2 o clock in the noon.. I was heading t...       0.0\n",
       "4  In afternoon time I was out with my brother an...       0.0"
      ]
     },
     "execution_count": 11,
     "metadata": {},
     "output_type": "execute_result"
    }
   ],
   "source": [
    "data.head()"
   ]
  },
  {
   "cell_type": "code",
   "execution_count": 53,
   "metadata": {},
   "outputs": [],
   "source": [
    "def count_categories(df, sexual_harassment = 0, bullying = 0, others = 0):\n",
    "    for i in range(len(df)):\n",
    "        if df.iloc[i].category == 0:\n",
    "            sexual_harassment+=1\n",
    "        elif df.iloc[i].category == 1:\n",
    "            bullying+=1\n",
    "        else:\n",
    "            others+=1\n",
    "    return sexual_harassment, bullying, others"
   ]
  },
  {
   "cell_type": "code",
   "execution_count": null,
   "metadata": {},
   "outputs": [],
   "source": [
    "sexual_harassment, bullying, others = count_categories(data, 0, 0, 0)\n",
    "print('No. of Sexual Harassment Data: ', sexual_harassment)\n",
    "print('No. of Bullying Data: ', bullying)\n",
    "print('No. of Other Data: ', others)"
   ]
  },
  {
   "cell_type": "markdown",
   "metadata": {},
   "source": [
    "#### Converting to lower case\n",
    "#### Replacing regex, symbols, and remove x in text\n",
    "#### Removing digits and stop words"
   ]
  },
  {
   "cell_type": "code",
   "execution_count": 13,
   "metadata": {},
   "outputs": [],
   "source": [
    "REPLACE_REGX = re.compile('[/(){}\\[\\]\\|@,;]')\n",
    "REPLACE_NUMBERS_SYMBOLS = re.compile('[^0-9a-z #+_]')\n",
    "STOPWORDS = set(stopwords.words('english'))\n",
    "\n",
    "def clean_text(text):\n",
    "    text = text.lower()\n",
    "    text = REPLACE_REGX.sub('', text)\n",
    "    text = REPLACE_NUMBERS_SYMBOLS.sub('', text)\n",
    "    text = ' '.join(word for word in text.split() if word not in STOPWORDS)\n",
    "    return text"
   ]
  },
  {
   "cell_type": "code",
   "execution_count": 14,
   "metadata": {},
   "outputs": [],
   "source": [
    "data['story'] = data['story'].apply(clean_text)\n",
    "data['story'] = data['story'].str.replace('\\d+', '')"
   ]
  },
  {
   "cell_type": "code",
   "execution_count": 15,
   "metadata": {},
   "outputs": [
    {
     "data": {
      "text/html": [
       "<div>\n",
       "<style scoped>\n",
       "    .dataframe tbody tr th:only-of-type {\n",
       "        vertical-align: middle;\n",
       "    }\n",
       "\n",
       "    .dataframe tbody tr th {\n",
       "        vertical-align: top;\n",
       "    }\n",
       "\n",
       "    .dataframe thead th {\n",
       "        text-align: right;\n",
       "    }\n",
       "</style>\n",
       "<table border=\"1\" class=\"dataframe\">\n",
       "  <thead>\n",
       "    <tr style=\"text-align: right;\">\n",
       "      <th></th>\n",
       "      <th>story</th>\n",
       "      <th>category</th>\n",
       "    </tr>\n",
       "  </thead>\n",
       "  <tbody>\n",
       "    <tr>\n",
       "      <th>0</th>\n",
       "      <td>stood bus stop man stepped toes asked looked h...</td>\n",
       "      <td>0.0</td>\n",
       "    </tr>\n",
       "    <tr>\n",
       "      <th>1</th>\n",
       "      <td>born craniofacial disease called stickler synd...</td>\n",
       "      <td>1.0</td>\n",
       "    </tr>\n",
       "    <tr>\n",
       "      <th>2</th>\n",
       "      <td>dildo page youre less man marine corps shouldv...</td>\n",
       "      <td>1.0</td>\n",
       "    </tr>\n",
       "    <tr>\n",
       "      <th>3</th>\n",
       "      <td>clock noon heading classes change two buses r...</td>\n",
       "      <td>0.0</td>\n",
       "    </tr>\n",
       "    <tr>\n",
       "      <th>4</th>\n",
       "      <td>afternoon time brother sister guys passed us o...</td>\n",
       "      <td>0.0</td>\n",
       "    </tr>\n",
       "  </tbody>\n",
       "</table>\n",
       "</div>"
      ],
      "text/plain": [
       "                                               story  category\n",
       "0  stood bus stop man stepped toes asked looked h...       0.0\n",
       "1  born craniofacial disease called stickler synd...       1.0\n",
       "2  dildo page youre less man marine corps shouldv...       1.0\n",
       "3   clock noon heading classes change two buses r...       0.0\n",
       "4  afternoon time brother sister guys passed us o...       0.0"
      ]
     },
     "execution_count": 15,
     "metadata": {},
     "output_type": "execute_result"
    }
   ],
   "source": [
    "data.head()"
   ]
  },
  {
   "cell_type": "code",
   "execution_count": 16,
   "metadata": {},
   "outputs": [],
   "source": [
    "df = data.copy()"
   ]
  },
  {
   "cell_type": "code",
   "execution_count": 17,
   "metadata": {},
   "outputs": [
    {
     "data": {
      "text/plain": [
       "21880"
      ]
     },
     "execution_count": 17,
     "metadata": {},
     "output_type": "execute_result"
    }
   ],
   "source": [
    "len(df)"
   ]
  },
  {
   "cell_type": "code",
   "execution_count": 18,
   "metadata": {},
   "outputs": [
    {
     "name": "stdout",
     "output_type": "stream",
     "text": [
      "3732\n"
     ]
    }
   ],
   "source": [
    "counter = 1\n",
    "for i in range(len(df)):\n",
    "    \n",
    "    if data.iloc[i].category == 0:\n",
    "#         print(data.iloc[i].category)\n",
    "        df.drop(index=i, inplace=True)\n",
    "        counter += 1\n",
    "        if counter == 3732:\n",
    "            break\n",
    "print(counter)"
   ]
  },
  {
   "cell_type": "code",
   "execution_count": 19,
   "metadata": {},
   "outputs": [
    {
     "name": "stdout",
     "output_type": "stream",
     "text": [
      "No. of Sexual Harassment Data:  9075\n",
      "No. of Bullying Data:  9074\n",
      "No. of Other Data:  0\n"
     ]
    }
   ],
   "source": [
    "sexual_harassment, bullying, others = count_categories(df, 0, 0, 0)\n",
    "print('No. of Sexual Harassment Data: ', sexual_harassment)\n",
    "print('No. of Bullying Data: ', bullying)\n",
    "print('No. of Other Data: ', others)"
   ]
  },
  {
   "cell_type": "code",
   "execution_count": 20,
   "metadata": {},
   "outputs": [],
   "source": [
    "df.to_csv(os.path.join(dataset_dir + '/balanced_polished_data.csv'), index=False)"
   ]
  },
  {
   "cell_type": "code",
   "execution_count": 21,
   "metadata": {},
   "outputs": [
    {
     "data": {
      "text/plain": [
       "18149"
      ]
     },
     "execution_count": 21,
     "metadata": {},
     "output_type": "execute_result"
    }
   ],
   "source": [
    "len(df)"
   ]
  },
  {
   "cell_type": "code",
   "execution_count": 22,
   "metadata": {},
   "outputs": [],
   "source": [
    "df = df.sample(frac=1).reset_index(drop=True)"
   ]
  },
  {
   "cell_type": "code",
   "execution_count": 23,
   "metadata": {},
   "outputs": [],
   "source": [
    "def prepare_train_test_set(df, test_percentage = .9):\n",
    "    no_of_data = round(len(df) * test_percentage)\n",
    "    \n",
    "    print('Preparing {} dat for trainset'.format(no_of_data))\n",
    "    train_set = df[:no_of_data]\n",
    "    \n",
    "    print('Preparing {} dat for test'.format(len(df)-no_of_data))\n",
    "    test_set = df[no_of_data:]\n",
    "    \n",
    "    return train_set, test_set"
   ]
  },
  {
   "cell_type": "code",
   "execution_count": 24,
   "metadata": {},
   "outputs": [
    {
     "name": "stdout",
     "output_type": "stream",
     "text": [
      "Preparing 16334 dat for trainset\n",
      "Preparing 1815 dat for test\n"
     ]
    }
   ],
   "source": [
    "train_set, test_set = prepare_train_test_set(df)"
   ]
  },
  {
   "cell_type": "code",
   "execution_count": 25,
   "metadata": {},
   "outputs": [
    {
     "name": "stdout",
     "output_type": "stream",
     "text": [
      "No of train data 16334\n",
      "No of test data 1815\n"
     ]
    }
   ],
   "source": [
    "print('No of train data {}'.format(len(train_set)))\n",
    "print('No of test data {}'.format(len(test_set)))"
   ]
  },
  {
   "cell_type": "code",
   "execution_count": 26,
   "metadata": {},
   "outputs": [],
   "source": [
    "train_set = train_set.reset_index(drop=True)\n",
    "test_set = test_set.reset_index(drop=True)"
   ]
  },
  {
   "cell_type": "code",
   "execution_count": 27,
   "metadata": {},
   "outputs": [
    {
     "data": {
      "text/html": [
       "<div>\n",
       "<style scoped>\n",
       "    .dataframe tbody tr th:only-of-type {\n",
       "        vertical-align: middle;\n",
       "    }\n",
       "\n",
       "    .dataframe tbody tr th {\n",
       "        vertical-align: top;\n",
       "    }\n",
       "\n",
       "    .dataframe thead th {\n",
       "        text-align: right;\n",
       "    }\n",
       "</style>\n",
       "<table border=\"1\" class=\"dataframe\">\n",
       "  <thead>\n",
       "    <tr style=\"text-align: right;\">\n",
       "      <th></th>\n",
       "      <th>story</th>\n",
       "      <th>category</th>\n",
       "    </tr>\n",
       "  </thead>\n",
       "  <tbody>\n",
       "    <tr>\n",
       "      <th>0</th>\n",
       "      <td>hello silly wubba wubba mitt romney dictator</td>\n",
       "      <td>1.0</td>\n",
       "    </tr>\n",
       "    <tr>\n",
       "      <th>1</th>\n",
       "      <td>man staring smiling near house tried cross pat...</td>\n",
       "      <td>0.0</td>\n",
       "    </tr>\n",
       "    <tr>\n",
       "      <th>2</th>\n",
       "      <td>happened road bus stop named gulabi bagh laksh...</td>\n",
       "      <td>0.0</td>\n",
       "    </tr>\n",
       "    <tr>\n",
       "      <th>3</th>\n",
       "      <td>old man promised buy touch screen phone accept...</td>\n",
       "      <td>0.0</td>\n",
       "    </tr>\n",
       "    <tr>\n",
       "      <th>4</th>\n",
       "      <td>contador gofuckyourselflove dc</td>\n",
       "      <td>1.0</td>\n",
       "    </tr>\n",
       "  </tbody>\n",
       "</table>\n",
       "</div>"
      ],
      "text/plain": [
       "                                               story  category\n",
       "0       hello silly wubba wubba mitt romney dictator       1.0\n",
       "1  man staring smiling near house tried cross pat...       0.0\n",
       "2  happened road bus stop named gulabi bagh laksh...       0.0\n",
       "3  old man promised buy touch screen phone accept...       0.0\n",
       "4                     contador gofuckyourselflove dc       1.0"
      ]
     },
     "execution_count": 27,
     "metadata": {},
     "output_type": "execute_result"
    }
   ],
   "source": [
    "train_set.head()"
   ]
  },
  {
   "cell_type": "code",
   "execution_count": 28,
   "metadata": {},
   "outputs": [
    {
     "data": {
      "text/html": [
       "<div>\n",
       "<style scoped>\n",
       "    .dataframe tbody tr th:only-of-type {\n",
       "        vertical-align: middle;\n",
       "    }\n",
       "\n",
       "    .dataframe tbody tr th {\n",
       "        vertical-align: top;\n",
       "    }\n",
       "\n",
       "    .dataframe thead th {\n",
       "        text-align: right;\n",
       "    }\n",
       "</style>\n",
       "<table border=\"1\" class=\"dataframe\">\n",
       "  <thead>\n",
       "    <tr style=\"text-align: right;\">\n",
       "      <th></th>\n",
       "      <th>story</th>\n",
       "      <th>category</th>\n",
       "    </tr>\n",
       "  </thead>\n",
       "  <tbody>\n",
       "    <tr>\n",
       "      <th>0</th>\n",
       "      <td>young teenage girls clothes torn street young ...</td>\n",
       "      <td>0.0</td>\n",
       "    </tr>\n",
       "    <tr>\n",
       "      <th>1</th>\n",
       "      <td>somebody tires touch sensitive part</td>\n",
       "      <td>0.0</td>\n",
       "    </tr>\n",
       "    <tr>\n",
       "      <th>2</th>\n",
       "      <td>happened late evening travelling subjected var...</td>\n",
       "      <td>0.0</td>\n",
       "    </tr>\n",
       "    <tr>\n",
       "      <th>3</th>\n",
       "      <td>gotta love send noted racist antisemite kinda ...</td>\n",
       "      <td>1.0</td>\n",
       "    </tr>\n",
       "    <tr>\n",
       "      <th>4</th>\n",
       "      <td>yo nigga reverting edits use common sense</td>\n",
       "      <td>1.0</td>\n",
       "    </tr>\n",
       "  </tbody>\n",
       "</table>\n",
       "</div>"
      ],
      "text/plain": [
       "                                               story  category\n",
       "0  young teenage girls clothes torn street young ...       0.0\n",
       "1                somebody tires touch sensitive part       0.0\n",
       "2  happened late evening travelling subjected var...       0.0\n",
       "3  gotta love send noted racist antisemite kinda ...       1.0\n",
       "4          yo nigga reverting edits use common sense       1.0"
      ]
     },
     "execution_count": 28,
     "metadata": {},
     "output_type": "execute_result"
    }
   ],
   "source": [
    "test_set.head()"
   ]
  },
  {
   "cell_type": "code",
   "execution_count": 54,
   "metadata": {},
   "outputs": [],
   "source": [
    "train_set.to_csv(os.path.join(dataset_dir + '/train_dev_set.csv'), index=False)\n",
    "test_set.to_csv(os.path.join(dataset_dir + '/test_set.csv'), index=False)"
   ]
  },
  {
   "cell_type": "markdown",
   "metadata": {},
   "source": [
    "### Data checking for duplicates and misslabel"
   ]
  },
  {
   "cell_type": "code",
   "execution_count": 14,
   "metadata": {},
   "outputs": [
    {
     "name": "stdout",
     "output_type": "stream",
     "text": [
      "['balanced_polished_data.csv', 'polished_data.csv', 'raw_data.csv', 'test.csv', 'test_labels.csv', 'test_set.csv', 'train.csv', 'train_dev_set.csv']\n"
     ]
    },
    {
     "data": {
      "text/html": [
       "<div>\n",
       "<style scoped>\n",
       "    .dataframe tbody tr th:only-of-type {\n",
       "        vertical-align: middle;\n",
       "    }\n",
       "\n",
       "    .dataframe tbody tr th {\n",
       "        vertical-align: top;\n",
       "    }\n",
       "\n",
       "    .dataframe thead th {\n",
       "        text-align: right;\n",
       "    }\n",
       "</style>\n",
       "<table border=\"1\" class=\"dataframe\">\n",
       "  <thead>\n",
       "    <tr style=\"text-align: right;\">\n",
       "      <th></th>\n",
       "      <th>story</th>\n",
       "      <th>category</th>\n",
       "    </tr>\n",
       "  </thead>\n",
       "  <tbody>\n",
       "    <tr>\n",
       "      <th>0</th>\n",
       "      <td>summer afternoon walking street  boys motorbik...</td>\n",
       "      <td>0.0</td>\n",
       "    </tr>\n",
       "    <tr>\n",
       "      <th>1</th>\n",
       "      <td>taxi driver harassed girl university buea junc...</td>\n",
       "      <td>0.0</td>\n",
       "    </tr>\n",
       "    <tr>\n",
       "      <th>2</th>\n",
       "      <td>passing ground near indira nagar comments pass...</td>\n",
       "      <td>0.0</td>\n",
       "    </tr>\n",
       "    <tr>\n",
       "      <th>3</th>\n",
       "      <td>never found supportive environment speaking as...</td>\n",
       "      <td>1.0</td>\n",
       "    </tr>\n",
       "    <tr>\n",
       "      <th>4</th>\n",
       "      <td>watch mouth dare call troll ugly piece shit</td>\n",
       "      <td>1.0</td>\n",
       "    </tr>\n",
       "  </tbody>\n",
       "</table>\n",
       "</div>"
      ],
      "text/plain": [
       "                                               story  category\n",
       "0  summer afternoon walking street  boys motorbik...       0.0\n",
       "1  taxi driver harassed girl university buea junc...       0.0\n",
       "2  passing ground near indira nagar comments pass...       0.0\n",
       "3  never found supportive environment speaking as...       1.0\n",
       "4        watch mouth dare call troll ugly piece shit       1.0"
      ]
     },
     "execution_count": 14,
     "metadata": {},
     "output_type": "execute_result"
    }
   ],
   "source": [
    "print(os.listdir(dataset_dir))\n",
    "df = pd.read_csv(os.path.join(dataset_dir,'test_set.csv'))\n",
    "df.head()"
   ]
  },
  {
   "cell_type": "code",
   "execution_count": 16,
   "metadata": {},
   "outputs": [],
   "source": [
    "def detect_duplicates_and_mislabeled(df):\n",
    "    similarities_list = list()\n",
    "    visited = list()\n",
    "    df_len = len(df)\n",
    "    for i in range(df_len):\n",
    "        for j in range(i+1, df_len):\n",
    "            if j not in visited:\n",
    "                if df.iloc[i].story == df.iloc[j].story:\n",
    "                    visited.append(j)\n",
    "                    similarities_list.append(j)\n",
    "                    print('Story: \\n', df.iloc[i].story)\n",
    "                    print('Category: \\n', df.iloc[i].category)\n",
    "            elif j in visited:\n",
    "                break\n",
    "    return similarities_list"
   ]
  },
  {
   "cell_type": "code",
   "execution_count": 17,
   "metadata": {},
   "outputs": [
    {
     "name": "stdout",
     "output_type": "stream",
     "text": [
      "Story: \n",
      " one person snatch chain\n",
      "Category: \n",
      " 0.0\n",
      "Story: \n",
      " went one shop sarojninagar guy stared\n",
      "Category: \n",
      " 0.0\n",
      "Story: \n",
      " freshman year high school diagnosed scoliosis undergo many months testing childrens hospital finally fitting boston brace kind brace goes around entire torso extending deep armpit halfway butt back diggin deep hip front throughout high school wore brace  hours day taking shower girl high school peak time care looks couldnt change fact whole body stiff wide little portion butt stuck brace looked really funny specifically remember one girl always pestering would constantly say ally whats butt ally look stiff knowing exactly going struggling finished high school years wearing back brace whole way constantly worried ways hide brace people said thought concealed clothes knew everybody noticed everybody talked friends supportive time wish people understand much things say hurt\n",
      "Category: \n",
      " 1.0\n",
      "Story: \n",
      " place near nandan inspera datta mandir often dimly lit usually groups hang around areas evetease groups active day nothing else help police patrolling seen anywhere encourages guys politically connected builders acquaitances since consequences people always get away night patrolling kind surprise check done random feedbacks ladies staying near areas taken even temples safe visit days\n",
      "Category: \n",
      " 0.0\n",
      "Story: \n",
      " survey carried safecity red dot foundation along safecity audit street market mumbai\n",
      "Category: \n",
      " 0.0\n",
      "Story: \n",
      " survey carried safecity red dot foundation along safety audit street markets mumbai\n",
      "Category: \n",
      " 0.0\n",
      "Story: \n",
      " survey carried safecity red dot foundation along safety audit street markets mumbai\n",
      "Category: \n",
      " 0.0\n",
      "Story: \n",
      " going campus boy bus station wanted come told follow tried follow bus bus driver threw outonce group foreigners walking city one guy started following us everywhere end started asking whether ever sex etc\n",
      "Category: \n",
      " 0.0\n",
      "Story: \n",
      " catcalls commenting bad facial expressions\n",
      "Category: \n",
      " 0.0\n",
      "Story: \n",
      " waiting outside lilavati hospital around  pm weekday man motorcycle slowed front groping breast harshly drove away could anything\n",
      "Category: \n",
      " 0.0\n",
      "Story: \n",
      " girl jumped friends house tried kiss friends locked door outside ran bathroom followed blackmailed dont kiss back gonna scream create scene refused started kissing neck went back room get rid jumped fell bed hit head perfume bottle friends rescued opening door teenager back\n",
      "Category: \n",
      " 0.0\n"
     ]
    }
   ],
   "source": [
    "similarities_list_test_set = detect_duplicates_and_mislabeled(df)"
   ]
  },
  {
   "cell_type": "code",
   "execution_count": 18,
   "metadata": {},
   "outputs": [
    {
     "data": {
      "text/plain": [
       "[1092, 209, 639, 1000, 976, 1497, 1808, 1405, 1238, 1330, 1527]"
      ]
     },
     "execution_count": 18,
     "metadata": {},
     "output_type": "execute_result"
    }
   ],
   "source": [
    "similarities_list_test_set"
   ]
  },
  {
   "cell_type": "code",
   "execution_count": 19,
   "metadata": {},
   "outputs": [
    {
     "data": {
      "text/plain": [
       "11"
      ]
     },
     "execution_count": 19,
     "metadata": {},
     "output_type": "execute_result"
    }
   ],
   "source": [
    "len(similarities_list_test_set)"
   ]
  },
  {
   "cell_type": "code",
   "execution_count": 20,
   "metadata": {},
   "outputs": [
    {
     "data": {
      "text/plain": [
       "11"
      ]
     },
     "execution_count": 20,
     "metadata": {},
     "output_type": "execute_result"
    }
   ],
   "source": [
    "similarities_in_test = np.asarray(similarities_list_test_set)\n",
    "len(np.unique(similarities_in_test))"
   ]
  },
  {
   "cell_type": "code",
   "execution_count": 21,
   "metadata": {},
   "outputs": [],
   "source": [
    "with open('similarities_index_in_test_set.txt', 'w') as file:\n",
    "    for s in similarities_in_test:\n",
    "        file.write(str(s)+'\\n')"
   ]
  },
  {
   "cell_type": "code",
   "execution_count": 36,
   "metadata": {},
   "outputs": [],
   "source": [
    "similarities_train_dev = list()\n",
    "with open('similarities_index_in_train_dev.txt', 'r') as file:\n",
    "#     file.readline\n",
    "    val = file.readlines()\n",
    "#     val = val[0]\n",
    "    similarities_train_dev.append(val)"
   ]
  },
  {
   "cell_type": "code",
   "execution_count": 37,
   "metadata": {},
   "outputs": [
    {
     "data": {
      "text/plain": [
       "[['15657\\n',\n",
       "  '5746\\n',\n",
       "  '3102\\n',\n",
       "  '2582\\n',\n",
       "  '1212\\n',\n",
       "  '120\\n',\n",
       "  '1191\\n',\n",
       "  '452\\n',\n",
       "  '359\\n',\n",
       "  '346\\n',\n",
       "  '934\\n',\n",
       "  '731\\n',\n",
       "  '1978\\n',\n",
       "  '1274\\n',\n",
       "  '1598\\n',\n",
       "  '1547\\n',\n",
       "  '1968\\n',\n",
       "  '2074\\n',\n",
       "  '2496\\n',\n",
       "  '2215\\n',\n",
       "  '2422\\n',\n",
       "  '2441\\n',\n",
       "  '2837\\n',\n",
       "  '3058\\n',\n",
       "  '4066\\n',\n",
       "  '4977\\n',\n",
       "  '3408\\n',\n",
       "  '4015\\n',\n",
       "  '3858\\n',\n",
       "  '4791\\n',\n",
       "  '4385\\n',\n",
       "  '4290\\n',\n",
       "  '4726\\n',\n",
       "  '4706\\n',\n",
       "  '4653\\n',\n",
       "  '5665\\n',\n",
       "  '5049\\n',\n",
       "  '5015\\n',\n",
       "  '5516\\n',\n",
       "  '5399\\n',\n",
       "  '5726\\n',\n",
       "  '5744\\n',\n",
       "  '14313\\n',\n",
       "  '10881\\n',\n",
       "  '8350\\n',\n",
       "  '6008\\n',\n",
       "  '6104\\n',\n",
       "  '7759\\n',\n",
       "  '7931\\n',\n",
       "  '6267\\n',\n",
       "  '7060\\n',\n",
       "  '6489\\n',\n",
       "  '6913\\n',\n",
       "  '6962\\n',\n",
       "  '6672\\n',\n",
       "  '7048\\n',\n",
       "  '7541\\n',\n",
       "  '7306\\n',\n",
       "  '7397\\n',\n",
       "  '7726\\n',\n",
       "  '8077\\n',\n",
       "  '8210\\n',\n",
       "  '8299\\n',\n",
       "  '8986\\n',\n",
       "  '8484\\n',\n",
       "  '8651\\n',\n",
       "  '8861\\n',\n",
       "  '10797\\n',\n",
       "  '10449\\n',\n",
       "  '9738\\n',\n",
       "  '10190\\n',\n",
       "  '9290\\n',\n",
       "  '9243\\n',\n",
       "  '9472\\n',\n",
       "  '10065\\n',\n",
       "  '10572\\n',\n",
       "  '10510\\n',\n",
       "  '10766\\n',\n",
       "  '14039\\n',\n",
       "  '12110\\n',\n",
       "  '11757\\n',\n",
       "  '11294\\n',\n",
       "  '11610\\n',\n",
       "  '11520\\n',\n",
       "  '11599\\n',\n",
       "  '11956\\n',\n",
       "  '12990\\n',\n",
       "  '12283\\n',\n",
       "  '12254\\n',\n",
       "  '12828\\n',\n",
       "  '12393\\n',\n",
       "  '12593\\n',\n",
       "  '12579\\n',\n",
       "  '12980\\n',\n",
       "  '13876\\n',\n",
       "  '13247\\n',\n",
       "  '13717\\n',\n",
       "  '13287\\n',\n",
       "  '13491\\n',\n",
       "  '13666\\n',\n",
       "  '13936\\n',\n",
       "  '13947\\n',\n",
       "  '14250\\n',\n",
       "  '14686\\n',\n",
       "  '14533\\n',\n",
       "  '14457\\n',\n",
       "  '14581\\n',\n",
       "  '15617\\n',\n",
       "  '15291\\n',\n",
       "  '15223\\n',\n",
       "  '15208\\n',\n",
       "  '15201\\n',\n",
       "  '15568\\n',\n",
       "  '15986\\n',\n",
       "  '15976\\n',\n",
       "  '15742\\n',\n",
       "  '16304\\n',\n",
       "  '16043\\n']]"
      ]
     },
     "execution_count": 37,
     "metadata": {},
     "output_type": "execute_result"
    }
   ],
   "source": [
    "similarities_train_dev"
   ]
  },
  {
   "cell_type": "code",
   "execution_count": 38,
   "metadata": {},
   "outputs": [
    {
     "data": {
      "text/plain": [
       "(1, 118)"
      ]
     },
     "execution_count": 38,
     "metadata": {},
     "output_type": "execute_result"
    }
   ],
   "source": [
    "similarities_train_dev = np.asarray(similarities_train_dev)\n",
    "similarities_train_dev.shape"
   ]
  },
  {
   "cell_type": "code",
   "execution_count": 46,
   "metadata": {},
   "outputs": [],
   "source": [
    "similarities_train = list()\n",
    "for i in similarities_train_dev[0]:\n",
    "    i = i.split('\\n')\n",
    "    i = int(i[0])\n",
    "    similarities_train.append(i)"
   ]
  },
  {
   "cell_type": "code",
   "execution_count": 47,
   "metadata": {},
   "outputs": [
    {
     "data": {
      "text/plain": [
       "[15657,\n",
       " 5746,\n",
       " 3102,\n",
       " 2582,\n",
       " 1212,\n",
       " 120,\n",
       " 1191,\n",
       " 452,\n",
       " 359,\n",
       " 346,\n",
       " 934,\n",
       " 731,\n",
       " 1978,\n",
       " 1274,\n",
       " 1598,\n",
       " 1547,\n",
       " 1968,\n",
       " 2074,\n",
       " 2496,\n",
       " 2215,\n",
       " 2422,\n",
       " 2441,\n",
       " 2837,\n",
       " 3058,\n",
       " 4066,\n",
       " 4977,\n",
       " 3408,\n",
       " 4015,\n",
       " 3858,\n",
       " 4791,\n",
       " 4385,\n",
       " 4290,\n",
       " 4726,\n",
       " 4706,\n",
       " 4653,\n",
       " 5665,\n",
       " 5049,\n",
       " 5015,\n",
       " 5516,\n",
       " 5399,\n",
       " 5726,\n",
       " 5744,\n",
       " 14313,\n",
       " 10881,\n",
       " 8350,\n",
       " 6008,\n",
       " 6104,\n",
       " 7759,\n",
       " 7931,\n",
       " 6267,\n",
       " 7060,\n",
       " 6489,\n",
       " 6913,\n",
       " 6962,\n",
       " 6672,\n",
       " 7048,\n",
       " 7541,\n",
       " 7306,\n",
       " 7397,\n",
       " 7726,\n",
       " 8077,\n",
       " 8210,\n",
       " 8299,\n",
       " 8986,\n",
       " 8484,\n",
       " 8651,\n",
       " 8861,\n",
       " 10797,\n",
       " 10449,\n",
       " 9738,\n",
       " 10190,\n",
       " 9290,\n",
       " 9243,\n",
       " 9472,\n",
       " 10065,\n",
       " 10572,\n",
       " 10510,\n",
       " 10766,\n",
       " 14039,\n",
       " 12110,\n",
       " 11757,\n",
       " 11294,\n",
       " 11610,\n",
       " 11520,\n",
       " 11599,\n",
       " 11956,\n",
       " 12990,\n",
       " 12283,\n",
       " 12254,\n",
       " 12828,\n",
       " 12393,\n",
       " 12593,\n",
       " 12579,\n",
       " 12980,\n",
       " 13876,\n",
       " 13247,\n",
       " 13717,\n",
       " 13287,\n",
       " 13491,\n",
       " 13666,\n",
       " 13936,\n",
       " 13947,\n",
       " 14250,\n",
       " 14686,\n",
       " 14533,\n",
       " 14457,\n",
       " 14581,\n",
       " 15617,\n",
       " 15291,\n",
       " 15223,\n",
       " 15208,\n",
       " 15201,\n",
       " 15568,\n",
       " 15986,\n",
       " 15976,\n",
       " 15742,\n",
       " 16304,\n",
       " 16043]"
      ]
     },
     "execution_count": 47,
     "metadata": {},
     "output_type": "execute_result"
    }
   ],
   "source": [
    "similarities_train"
   ]
  },
  {
   "cell_type": "markdown",
   "metadata": {},
   "source": [
    "### Dropping indices of the mislabeled and duplicate data"
   ]
  },
  {
   "cell_type": "code",
   "execution_count": 48,
   "metadata": {},
   "outputs": [
    {
     "name": "stdout",
     "output_type": "stream",
     "text": [
      "['balanced_polished_data.csv', 'polished_data.csv', 'raw_data.csv', 'test.csv', 'test_labels.csv', 'test_set.csv', 'train.csv', 'train_dev_set.csv']\n"
     ]
    },
    {
     "data": {
      "text/html": [
       "<div>\n",
       "<style scoped>\n",
       "    .dataframe tbody tr th:only-of-type {\n",
       "        vertical-align: middle;\n",
       "    }\n",
       "\n",
       "    .dataframe tbody tr th {\n",
       "        vertical-align: top;\n",
       "    }\n",
       "\n",
       "    .dataframe thead th {\n",
       "        text-align: right;\n",
       "    }\n",
       "</style>\n",
       "<table border=\"1\" class=\"dataframe\">\n",
       "  <thead>\n",
       "    <tr style=\"text-align: right;\">\n",
       "      <th></th>\n",
       "      <th>story</th>\n",
       "      <th>category</th>\n",
       "    </tr>\n",
       "  </thead>\n",
       "  <tbody>\n",
       "    <tr>\n",
       "      <th>0</th>\n",
       "      <td>train delhi rewaricommenting</td>\n",
       "      <td>0.0</td>\n",
       "    </tr>\n",
       "    <tr>\n",
       "      <th>1</th>\n",
       "      <td>friend mine child belonged good family parents...</td>\n",
       "      <td>0.0</td>\n",
       "    </tr>\n",
       "    <tr>\n",
       "      <th>2</th>\n",
       "      <td>motherfucker pabloyou sorry beaner assand your...</td>\n",
       "      <td>1.0</td>\n",
       "    </tr>\n",
       "    <tr>\n",
       "      <th>3</th>\n",
       "      <td>hey queer andrew stop messing aroundis mum les...</td>\n",
       "      <td>1.0</td>\n",
       "    </tr>\n",
       "    <tr>\n",
       "      <th>4</th>\n",
       "      <td>njgw unemployed mother fucking bastard loser r...</td>\n",
       "      <td>1.0</td>\n",
       "    </tr>\n",
       "  </tbody>\n",
       "</table>\n",
       "</div>"
      ],
      "text/plain": [
       "                                               story  category\n",
       "0                       train delhi rewaricommenting       0.0\n",
       "1  friend mine child belonged good family parents...       0.0\n",
       "2  motherfucker pabloyou sorry beaner assand your...       1.0\n",
       "3  hey queer andrew stop messing aroundis mum les...       1.0\n",
       "4  njgw unemployed mother fucking bastard loser r...       1.0"
      ]
     },
     "execution_count": 48,
     "metadata": {},
     "output_type": "execute_result"
    }
   ],
   "source": [
    "print(os.listdir(dataset_dir))\n",
    "train_data = pd.read_csv(os.path.join(dataset_dir,'train_dev_set.csv'))\n",
    "train_data.head()"
   ]
  },
  {
   "cell_type": "code",
   "execution_count": 49,
   "metadata": {},
   "outputs": [],
   "source": [
    "def drop_mislabeled_and_duplicate_data(data):\n",
    "    for i in range(len(data)):\n",
    "        if i in similarities_train:\n",
    "            print('Index {} is getting dropped'.format(i))\n",
    "            data.drop(index=i, inplace=True)"
   ]
  },
  {
   "cell_type": "code",
   "execution_count": 50,
   "metadata": {},
   "outputs": [
    {
     "name": "stdout",
     "output_type": "stream",
     "text": [
      "Index 120 is getting dropped\n",
      "Index 346 is getting dropped\n",
      "Index 359 is getting dropped\n",
      "Index 452 is getting dropped\n",
      "Index 731 is getting dropped\n",
      "Index 934 is getting dropped\n",
      "Index 1191 is getting dropped\n",
      "Index 1212 is getting dropped\n",
      "Index 1274 is getting dropped\n",
      "Index 1547 is getting dropped\n",
      "Index 1598 is getting dropped\n",
      "Index 1968 is getting dropped\n",
      "Index 1978 is getting dropped\n",
      "Index 2074 is getting dropped\n",
      "Index 2215 is getting dropped\n",
      "Index 2422 is getting dropped\n",
      "Index 2441 is getting dropped\n",
      "Index 2496 is getting dropped\n",
      "Index 2582 is getting dropped\n",
      "Index 2837 is getting dropped\n",
      "Index 3058 is getting dropped\n",
      "Index 3102 is getting dropped\n",
      "Index 3408 is getting dropped\n",
      "Index 3858 is getting dropped\n",
      "Index 4015 is getting dropped\n",
      "Index 4066 is getting dropped\n",
      "Index 4290 is getting dropped\n",
      "Index 4385 is getting dropped\n",
      "Index 4653 is getting dropped\n",
      "Index 4706 is getting dropped\n",
      "Index 4726 is getting dropped\n",
      "Index 4791 is getting dropped\n",
      "Index 4977 is getting dropped\n",
      "Index 5015 is getting dropped\n",
      "Index 5049 is getting dropped\n",
      "Index 5399 is getting dropped\n",
      "Index 5516 is getting dropped\n",
      "Index 5665 is getting dropped\n",
      "Index 5726 is getting dropped\n",
      "Index 5744 is getting dropped\n",
      "Index 5746 is getting dropped\n",
      "Index 6008 is getting dropped\n",
      "Index 6104 is getting dropped\n",
      "Index 6267 is getting dropped\n",
      "Index 6489 is getting dropped\n",
      "Index 6672 is getting dropped\n",
      "Index 6913 is getting dropped\n",
      "Index 6962 is getting dropped\n",
      "Index 7048 is getting dropped\n",
      "Index 7060 is getting dropped\n",
      "Index 7306 is getting dropped\n",
      "Index 7397 is getting dropped\n",
      "Index 7541 is getting dropped\n",
      "Index 7726 is getting dropped\n",
      "Index 7759 is getting dropped\n",
      "Index 7931 is getting dropped\n",
      "Index 8077 is getting dropped\n",
      "Index 8210 is getting dropped\n",
      "Index 8299 is getting dropped\n",
      "Index 8350 is getting dropped\n",
      "Index 8484 is getting dropped\n",
      "Index 8651 is getting dropped\n",
      "Index 8861 is getting dropped\n",
      "Index 8986 is getting dropped\n",
      "Index 9243 is getting dropped\n",
      "Index 9290 is getting dropped\n",
      "Index 9472 is getting dropped\n",
      "Index 9738 is getting dropped\n",
      "Index 10065 is getting dropped\n",
      "Index 10190 is getting dropped\n",
      "Index 10449 is getting dropped\n",
      "Index 10510 is getting dropped\n",
      "Index 10572 is getting dropped\n",
      "Index 10766 is getting dropped\n",
      "Index 10797 is getting dropped\n",
      "Index 10881 is getting dropped\n",
      "Index 11294 is getting dropped\n",
      "Index 11520 is getting dropped\n",
      "Index 11599 is getting dropped\n",
      "Index 11610 is getting dropped\n",
      "Index 11757 is getting dropped\n",
      "Index 11956 is getting dropped\n",
      "Index 12110 is getting dropped\n",
      "Index 12254 is getting dropped\n",
      "Index 12283 is getting dropped\n",
      "Index 12393 is getting dropped\n",
      "Index 12579 is getting dropped\n",
      "Index 12593 is getting dropped\n",
      "Index 12828 is getting dropped\n",
      "Index 12980 is getting dropped\n",
      "Index 12990 is getting dropped\n",
      "Index 13247 is getting dropped\n",
      "Index 13287 is getting dropped\n",
      "Index 13491 is getting dropped\n",
      "Index 13666 is getting dropped\n",
      "Index 13717 is getting dropped\n",
      "Index 13876 is getting dropped\n",
      "Index 13936 is getting dropped\n",
      "Index 13947 is getting dropped\n",
      "Index 14039 is getting dropped\n",
      "Index 14250 is getting dropped\n",
      "Index 14313 is getting dropped\n",
      "Index 14457 is getting dropped\n",
      "Index 14533 is getting dropped\n",
      "Index 14581 is getting dropped\n",
      "Index 14686 is getting dropped\n",
      "Index 15201 is getting dropped\n",
      "Index 15208 is getting dropped\n",
      "Index 15223 is getting dropped\n",
      "Index 15291 is getting dropped\n",
      "Index 15568 is getting dropped\n",
      "Index 15617 is getting dropped\n",
      "Index 15657 is getting dropped\n",
      "Index 15742 is getting dropped\n",
      "Index 15976 is getting dropped\n",
      "Index 15986 is getting dropped\n",
      "Index 16043 is getting dropped\n",
      "Index 16304 is getting dropped\n"
     ]
    }
   ],
   "source": [
    "drop_mislabeled_and_duplicate_data(train_data)"
   ]
  },
  {
   "cell_type": "code",
   "execution_count": 51,
   "metadata": {},
   "outputs": [],
   "source": [
    "train_data = train_data.reset_index(drop=True)"
   ]
  },
  {
   "cell_type": "code",
   "execution_count": 54,
   "metadata": {},
   "outputs": [
    {
     "name": "stdout",
     "output_type": "stream",
     "text": [
      "No. of Sexual Harassment Data:  8092\n",
      "No. of Bullying Data:  8124\n",
      "No. of Other Data:  0\n"
     ]
    }
   ],
   "source": [
    "sexual_harassment, bullying, others = count_categories(train_data, 0, 0, 0)\n",
    "print('No. of Sexual Harassment Data: ', sexual_harassment)\n",
    "print('No. of Bullying Data: ', bullying)\n",
    "print('No. of Other Data: ', others)"
   ]
  },
  {
   "cell_type": "code",
   "execution_count": 55,
   "metadata": {},
   "outputs": [
    {
     "name": "stdout",
     "output_type": "stream",
     "text": [
      "['balanced_polished_data.csv', 'polished_data.csv', 'raw_data.csv', 'test.csv', 'test_labels.csv', 'test_set.csv', 'train.csv', 'train_dev_set.csv']\n"
     ]
    },
    {
     "data": {
      "text/html": [
       "<div>\n",
       "<style scoped>\n",
       "    .dataframe tbody tr th:only-of-type {\n",
       "        vertical-align: middle;\n",
       "    }\n",
       "\n",
       "    .dataframe tbody tr th {\n",
       "        vertical-align: top;\n",
       "    }\n",
       "\n",
       "    .dataframe thead th {\n",
       "        text-align: right;\n",
       "    }\n",
       "</style>\n",
       "<table border=\"1\" class=\"dataframe\">\n",
       "  <thead>\n",
       "    <tr style=\"text-align: right;\">\n",
       "      <th></th>\n",
       "      <th>story</th>\n",
       "      <th>category</th>\n",
       "    </tr>\n",
       "  </thead>\n",
       "  <tbody>\n",
       "    <tr>\n",
       "      <th>0</th>\n",
       "      <td>summer afternoon walking street  boys motorbik...</td>\n",
       "      <td>0.0</td>\n",
       "    </tr>\n",
       "    <tr>\n",
       "      <th>1</th>\n",
       "      <td>taxi driver harassed girl university buea junc...</td>\n",
       "      <td>0.0</td>\n",
       "    </tr>\n",
       "    <tr>\n",
       "      <th>2</th>\n",
       "      <td>passing ground near indira nagar comments pass...</td>\n",
       "      <td>0.0</td>\n",
       "    </tr>\n",
       "    <tr>\n",
       "      <th>3</th>\n",
       "      <td>never found supportive environment speaking as...</td>\n",
       "      <td>1.0</td>\n",
       "    </tr>\n",
       "    <tr>\n",
       "      <th>4</th>\n",
       "      <td>watch mouth dare call troll ugly piece shit</td>\n",
       "      <td>1.0</td>\n",
       "    </tr>\n",
       "  </tbody>\n",
       "</table>\n",
       "</div>"
      ],
      "text/plain": [
       "                                               story  category\n",
       "0  summer afternoon walking street  boys motorbik...       0.0\n",
       "1  taxi driver harassed girl university buea junc...       0.0\n",
       "2  passing ground near indira nagar comments pass...       0.0\n",
       "3  never found supportive environment speaking as...       1.0\n",
       "4        watch mouth dare call troll ugly piece shit       1.0"
      ]
     },
     "execution_count": 55,
     "metadata": {},
     "output_type": "execute_result"
    }
   ],
   "source": [
    "print(os.listdir(dataset_dir))\n",
    "test_data = pd.read_csv(os.path.join(dataset_dir,'test_set.csv'))\n",
    "test_data.head()"
   ]
  },
  {
   "cell_type": "code",
   "execution_count": 56,
   "metadata": {},
   "outputs": [
    {
     "name": "stdout",
     "output_type": "stream",
     "text": [
      "Index 120 is getting dropped\n",
      "Index 346 is getting dropped\n",
      "Index 359 is getting dropped\n",
      "Index 452 is getting dropped\n",
      "Index 731 is getting dropped\n",
      "Index 934 is getting dropped\n",
      "Index 1191 is getting dropped\n",
      "Index 1212 is getting dropped\n",
      "Index 1274 is getting dropped\n",
      "Index 1547 is getting dropped\n",
      "Index 1598 is getting dropped\n"
     ]
    }
   ],
   "source": [
    "drop_mislabeled_and_duplicate_data(test_data)"
   ]
  },
  {
   "cell_type": "code",
   "execution_count": 57,
   "metadata": {},
   "outputs": [],
   "source": [
    "test_data = test_data.reset_index(drop=True)"
   ]
  },
  {
   "cell_type": "code",
   "execution_count": 58,
   "metadata": {},
   "outputs": [
    {
     "name": "stdout",
     "output_type": "stream",
     "text": [
      "No. of Sexual Harassment Data:  889\n",
      "No. of Bullying Data:  915\n",
      "No. of Other Data:  0\n"
     ]
    }
   ],
   "source": [
    "sexual_harassment, bullying, others = count_categories(test_data, 0, 0, 0)\n",
    "print('No. of Sexual Harassment Data: ', sexual_harassment)\n",
    "print('No. of Bullying Data: ', bullying)\n",
    "print('No. of Other Data: ', others)"
   ]
  },
  {
   "cell_type": "code",
   "execution_count": null,
   "metadata": {},
   "outputs": [],
   "source": []
  }
 ],
 "metadata": {
  "kernelspec": {
   "display_name": "Python 3",
   "language": "python",
   "name": "python3"
  },
  "language_info": {
   "codemirror_mode": {
    "name": "ipython",
    "version": 3
   },
   "file_extension": ".py",
   "mimetype": "text/x-python",
   "name": "python",
   "nbconvert_exporter": "python",
   "pygments_lexer": "ipython3",
   "version": "3.8.3"
  }
 },
 "nbformat": 4,
 "nbformat_minor": 4
}
